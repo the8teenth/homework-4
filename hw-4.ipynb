{
 "cells": [
  {
   "cell_type": "markdown",
   "id": "e4dfdb92",
   "metadata": {},
   "source": [
    "# Задание 1"
   ]
  },
  {
   "cell_type": "code",
   "execution_count": 197,
   "id": "98bb1bf5",
   "metadata": {
    "scrolled": true
   },
   "outputs": [
    {
     "name": "stdout",
     "output_type": "stream",
     "text": [
      "Введите команду: p\n",
      "Введите номер документа: 11-2\n",
      "Геннадий Покемонов\n",
      "Введите команду: p\n",
      "Введите номер документа: 11-3\n",
      "Документ не найден в базе\n",
      "Введите команду: s\n",
      "Введите номер документа: 11-2\n",
      "Документ хранится на полке: 1\n",
      "Введите команду: s\n",
      "Введите номер документа: 11-3\n",
      "Документ не найден в базе\n",
      "Введите команду: l\n",
      "№ 2207 876234, тип: passport, владелец: Василий Гупкин, полка: 1\n",
      "№ 11-2, тип: invoice, владелец: Геннадий Покемонов, полка: 1\n",
      "№ 10006, тип: insurance, владелец: Аристарх Павлов, полка: 2\n",
      "Введите команду: ads\n",
      "Введите номер полки: 1\n",
      "Такая полка уже существует. Текущий перечень полок: 1, 2, 3.\n",
      "Введите команду: ads\n",
      "Введите номер полки: 4\n",
      "Полка добавлена. Текущий перечень полок: 1, 2, 3, 4.\n",
      "Введите команду: ds\n",
      "Введите номер полки: 1\n",
      "На полке есть документы, удалите их перед удалением полки. Текущий перечень полок: 1, 2, 3, 4.\n",
      "Введите команду: ds\n",
      "Введите номер полки: 5\n",
      "Такой полки не существует. Текущий перечень полок: 1, 2, 3, 4.\n",
      "Введите команду: ds\n",
      "Введите номер полки: 4\n",
      "Полка удалена. Текущий перечень полок: 1, 2, 3.\n",
      "Введите команду: q\n",
      "До свидания!\n"
     ]
    }
   ],
   "source": [
    "documents = [\n",
    " {'type': 'passport', 'number': '2207 876234', 'name': 'Василий Гупкин'},\n",
    " {'type': 'invoice', 'number': '11-2', 'name': 'Геннадий Покемонов'},\n",
    " {'type': 'insurance', 'number': '10006', 'name': 'Аристарх Павлов'}\n",
    "]\n",
    "\n",
    "directories = {\n",
    " '1': ['2207 876234', '11-2'],\n",
    " '2': ['10006'],\n",
    " '3': []\n",
    "}\n",
    "\n",
    "def main(docs, shelfs):\n",
    "    while True:\n",
    "        user_input = input('Введите команду: ')\n",
    "        if user_input == 'p':\n",
    "            search_owner_of_doc(docs, shelfs)\n",
    "        elif user_input == 's':\n",
    "            shelf_search(docs, shelfs)\n",
    "        elif user_input == 'l':\n",
    "            all_inf(docs, shelfs)\n",
    "        elif user_input == 'ads':\n",
    "            add_new_shelf(docs, shelfs)\n",
    "        elif user_input == 'ds':\n",
    "            del_shelf(docs, shelfs)\n",
    "        elif user_input == 'q':\n",
    "            print('До свидания!')\n",
    "            break\n",
    "        else:\n",
    "            print('Не верная команда!')\n",
    "            \n",
    "main(documents, directories)"
   ]
  },
  {
   "cell_type": "markdown",
   "id": "a9871965",
   "metadata": {},
   "source": [
    "## Пункт 1\n",
    "### Пользователь по команде \"p\" может узнать владельца документа по его номеру"
   ]
  },
  {
   "cell_type": "code",
   "execution_count": 50,
   "id": "43bf82a9",
   "metadata": {},
   "outputs": [
    {
     "name": "stdout",
     "output_type": "stream",
     "text": [
      "Введите номер документа: 11-2\n",
      "Геннадий Покемонов\n"
     ]
    }
   ],
   "source": [
    "def search_owner_of_doc(docs, shelfs):\n",
    "    num_doc = input('Введите номер документа: ')\n",
    "    for inf_person in docs:\n",
    "        if num_doc in inf_person.values():\n",
    "            print(inf_person['name'])\n",
    "            break\n",
    "    else:\n",
    "        print('Документ не найден в базе')\n",
    "\n",
    "search_owner_of_doc(documents, directories) "
   ]
  },
  {
   "cell_type": "markdown",
   "id": "9bb7a9de",
   "metadata": {},
   "source": [
    "## Пункт 2\n",
    "### Пользователь по команде \"s\" может по номеру документа узнать на какой полке он хранится"
   ]
  },
  {
   "cell_type": "code",
   "execution_count": 46,
   "id": "f030bfbb",
   "metadata": {},
   "outputs": [
    {
     "name": "stdout",
     "output_type": "stream",
     "text": [
      "Введите номер документа: 11-3\n",
      "Документ не найден в базе\n"
     ]
    }
   ],
   "source": [
    "def shelf_search(docs, shelfs):\n",
    "    num_doc = input('Введите номер документа: ')\n",
    "    for shelf, content in shelfs.items():\n",
    "            if num_doc in content:\n",
    "                print(f\"Документ хранится на полке: {shelf}\")\n",
    "                break\n",
    "            else:\n",
    "                print('Документ не найден в базе')\n",
    "                break\n",
    "                \n",
    "shelf_search(documents, directories)"
   ]
  },
  {
   "cell_type": "markdown",
   "id": "b7c45fba",
   "metadata": {},
   "source": [
    "## Пункт 3\n",
    "### Пользователь по команде \"l\" может увидеть полную информацию по всем документам"
   ]
  },
  {
   "cell_type": "code",
   "execution_count": 55,
   "id": "02903808",
   "metadata": {},
   "outputs": [
    {
     "name": "stdout",
     "output_type": "stream",
     "text": [
      "№ 2207 876234, тип: passport, владелец: Василий Гупкин, полка: 1\n",
      "№ 11-2, тип: invoice, владелец: Геннадий Покемонов, полка: 1\n",
      "№ 10006, тип: insurance, владелец: Аристарх Павлов, полка: 2\n"
     ]
    }
   ],
   "source": [
    "def all_inf(docs, shelfs):\n",
    "    for shelf, content in shelfs.items():\n",
    "        for doc in docs:\n",
    "            if doc['number'] in content:\n",
    "                print(f\"№ {doc['number']}, тип: {doc['type']}, владелец: {doc['name']}, полка: {shelf}\")\n",
    "\n",
    "all_inf(documents, directories)"
   ]
  },
  {
   "cell_type": "markdown",
   "id": "2ab6df90",
   "metadata": {},
   "source": [
    "## Пункт 4\n",
    "### Пользователь по команде \"ads\" может добавить новую полку"
   ]
  },
  {
   "cell_type": "code",
   "execution_count": 196,
   "id": "74f18fbf",
   "metadata": {},
   "outputs": [
    {
     "name": "stdout",
     "output_type": "stream",
     "text": [
      "Введите номер полки: 3\n",
      "Полка добавлена. Текущий перечень полок: 1, 2, 3.\n"
     ]
    }
   ],
   "source": [
    "#доработать вывод\n",
    "def add_new_shelf(docs, shelfs):\n",
    "    num_shelf = input('Введите номер полки: ')\n",
    "    if num_shelf in shelfs.keys():\n",
    "        print(f\"Такая полка уже существует. Текущий перечень полок: {', '.join([k for k in shelfs.keys()])}.\")\n",
    "    else:\n",
    "        directories.setdefault(num_shelf, [])\n",
    "        print(f\"Полка добавлена. Текущий перечень полок: {', '.join([k for k in shelfs.keys()])}.\")\n",
    "\n",
    "add_new_shelf(documents, directories)"
   ]
  },
  {
   "cell_type": "markdown",
   "id": "e58b4cf8",
   "metadata": {},
   "source": [
    "## Пункт 5\n",
    "### Пользователь по команде \"ds\" может удалить существующую полку из данных (только если она пустая)"
   ]
  },
  {
   "cell_type": "code",
   "execution_count": 195,
   "id": "9c0454a9",
   "metadata": {},
   "outputs": [
    {
     "name": "stdout",
     "output_type": "stream",
     "text": [
      "Введите номер полки: 3\n",
      "Полка удалена. Текущий перечень полок: 1, 2.\n"
     ]
    }
   ],
   "source": [
    "def del_shelf(docs, shelfs):\n",
    "    num_shelf = input('Введите номер полки: ')\n",
    "    \n",
    "    if num_shelf in shelfs.keys() and (len(shelfs[num_shelf]) == 0):\n",
    "        del(shelfs[num_shelf])\n",
    "        print(f\"Полка удалена. Текущий перечень полок: {', '.join([k for k in shelfs.keys()])}.\")\n",
    "    elif num_shelf in shelfs.keys() and (len(shelfs[num_shelf]) != 0):\n",
    "         print(f\"На полке есть документы, удалите их перед удалением полки. Текущий перечень полок: {', '.join([k for k in shelfs.keys()])}.\")\n",
    "    else:\n",
    "        print(f\"Такой полки не существует. Текущий перечень полок: {', '.join([k for k in shelfs.keys()])}.\")\n",
    "\n",
    "del_shelf(documents, directories)"
   ]
  }
 ],
 "metadata": {
  "kernelspec": {
   "display_name": "Python 3",
   "language": "python",
   "name": "python3"
  },
  "language_info": {
   "codemirror_mode": {
    "name": "ipython",
    "version": 3
   },
   "file_extension": ".py",
   "mimetype": "text/x-python",
   "name": "python",
   "nbconvert_exporter": "python",
   "pygments_lexer": "ipython3",
   "version": "3.8.8"
  }
 },
 "nbformat": 4,
 "nbformat_minor": 5
}
